{
  "nbformat": 4,
  "nbformat_minor": 0,
  "metadata": {
    "colab": {
      "provenance": [],
      "authorship_tag": "ABX9TyNHVYV6I3H8iVspLJEgE7FZ",
      "include_colab_link": true
    },
    "kernelspec": {
      "name": "python3",
      "display_name": "Python 3"
    },
    "language_info": {
      "name": "python"
    }
  },
  "cells": [
    {
      "cell_type": "markdown",
      "metadata": {
        "id": "view-in-github",
        "colab_type": "text"
      },
      "source": [
        "<a href=\"https://colab.research.google.com/github/martinadi317/PRODIGY_GA_01/blob/main/Untitled.ipynb\" target=\"_parent\"><img src=\"https://colab.research.google.com/assets/colab-badge.svg\" alt=\"Open In Colab\"/></a>"
      ]
    },
    {
      "cell_type": "code",
      "source": [
        "import random\n",
        "from collections import defaultdict\n",
        "# Sample text data for training\n",
        "corpus = \"\"\"\n",
        "Implementing a Markov chain text generator can be quite simple. The algorithm predicts the next word\n",
        "in a sentence based on previous words. It’s often used for text generation.\n",
        "\"\"\"\n",
        "\n",
        "# Tokenize the text data into words\n",
        "def tokenize_text(text):\n",
        "    words = text.lower().split()\n",
        "    return words\n",
        "\n",
        "# Build the Markov Chain model\n",
        "def build_markov_chain(words, order=2):\n",
        "    markov_chain = defaultdict(list)\n",
        "\n",
        "    # Create word pairs based on the specified order\n",
        "    for i in range(len(words) - order):\n",
        "        key = tuple(words[i:i+order])  # Get the tuple of words based on the order\n",
        "        next_word = words[i + order]\n",
        "        markov_chain[key].append(next_word)\n",
        "\n",
        "    return markov_chain\n",
        "\n",
        "# Generate text using the Markov Chain model\n",
        "def generate_text(chain, start_words, length=20):\n",
        "    current_words = start_words\n",
        "    generated_words = list(start_words)\n",
        "\n",
        "    for _ in range(length):\n",
        "        current_key = tuple(current_words[-2:])  # Get the last two words as the key\n",
        "        next_words = chain.get(current_key)\n",
        "\n",
        "        if not next_words:\n",
        "            break\n",
        "\n",
        "        next_word = random.choice(next_words)\n",
        "        generated_words.append(next_word)\n",
        "        current_words.append(next_word)\n",
        "\n",
        "    return ' '.join(generated_words)\n",
        "\n",
        "# Tokenize the corpus and build the model\n",
        "words = tokenize_text(corpus)\n",
        "markov_chain = build_markov_chain(words)\n",
        "\n",
        "# Generate text starting with a given word pair\n",
        "start_words = [\"markov\", \"chain\"]\n",
        "generated_text = generate_text(markov_chain, start_words, length=20)\n",
        "print(\"Generated Text:\\n\", generated_text)\n"
      ],
      "metadata": {
        "colab": {
          "base_uri": "https://localhost:8080/"
        },
        "id": "UDO7CONYuSHt",
        "outputId": "b79ae279-a6e3-42f1-84b6-914e5fa72172"
      },
      "execution_count": 17,
      "outputs": [
        {
          "output_type": "stream",
          "name": "stdout",
          "text": [
            "Generated Text:\n",
            " markov chain text generator can be quite simple. the algorithm predicts the next word in a sentence based on previous words. it’s\n"
          ]
        }
      ]
    }
  ]
}